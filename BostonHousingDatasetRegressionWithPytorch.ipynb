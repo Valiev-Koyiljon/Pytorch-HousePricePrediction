{
  "cells": [
    {
      "cell_type": "markdown",
      "metadata": {
        "_cell_guid": "b1076dfc-b9ad-4769-8c92-a6c4dae69d19",
        "_uuid": "8f2839f25d086af736a60e9eeb907d3b93b6e0e5",
        "id": "9nSsMv_y87dH"
      },
      "source": [
        "# House price prediction using linear regression\n",
        "\n",
        "We will use the boston housing dataset, which is available on Kaggle platform: https://www.kaggle.com/c/boston-housing/"
      ]
    },
    {
      "cell_type": "code",
      "execution_count": 162,
      "metadata": {
        "id": "-dDb6LWu87d_"
      },
      "outputs": [],
      "source": [
        "# Imports\n",
        "import pandas as pd\n",
        "import matplotlib.pyplot as plt\n",
        "import torch\n",
        "import torchvision\n",
        "import torch.nn as nn\n",
        "import torch.nn.functional as F\n",
        "from torchvision.datasets.utils import download_url\n",
        "from torch.utils.data import DataLoader, TensorDataset, random_split"
      ]
    },
    {
      "cell_type": "code",
      "execution_count": 163,
      "metadata": {
        "id": "UJ01-ZdS87eL"
      },
      "outputs": [],
      "source": [
        "# Hyperparameters\n",
        "batch_size=64\n",
        "learning_rate=0.0000005"
      ]
    },
    {
      "cell_type": "code",
      "source": [
        "# Other constants\n",
        "DATASET_URL = \"https://raw.githubusercontent.com/selva86/datasets/master/BostonHousing.csv\"\n",
        "DATA_FILENAME = \"BostonHousing.csv\"\n",
        "TARGET_COLUMN = 'medv'\n",
        "input_size=13\n",
        "output_size=1"
      ],
      "metadata": {
        "id": "DK8KqkF_K5WI"
      },
      "execution_count": 164,
      "outputs": []
    },
    {
      "cell_type": "markdown",
      "metadata": {
        "id": "5MTy_TQu87eO"
      },
      "source": [
        "## Dataset & Data loaders"
      ]
    },
    {
      "cell_type": "code",
      "execution_count": 165,
      "metadata": {
        "colab": {
          "base_uri": "https://localhost:8080/",
          "height": 224
        },
        "id": "hnXsouEs87eQ",
        "outputId": "801d65b3-ee09-4467-86cc-c2016b8c6a92"
      },
      "outputs": [
        {
          "output_type": "stream",
          "name": "stdout",
          "text": [
            "Using downloaded and verified file: ./BostonHousing.csv\n"
          ]
        },
        {
          "output_type": "execute_result",
          "data": {
            "text/plain": [
              "      crim    zn  indus  chas    nox     rm   age     dis  rad  tax  ptratio  \\\n",
              "0  0.00632  18.0   2.31     0  0.538  6.575  65.2  4.0900    1  296     15.3   \n",
              "1  0.02731   0.0   7.07     0  0.469  6.421  78.9  4.9671    2  242     17.8   \n",
              "2  0.02729   0.0   7.07     0  0.469  7.185  61.1  4.9671    2  242     17.8   \n",
              "3  0.03237   0.0   2.18     0  0.458  6.998  45.8  6.0622    3  222     18.7   \n",
              "4  0.06905   0.0   2.18     0  0.458  7.147  54.2  6.0622    3  222     18.7   \n",
              "\n",
              "        b  lstat  medv  \n",
              "0  396.90   4.98  24.0  \n",
              "1  396.90   9.14  21.6  \n",
              "2  392.83   4.03  34.7  \n",
              "3  394.63   2.94  33.4  \n",
              "4  396.90   5.33  36.2  "
            ],
            "text/html": [
              "\n",
              "\n",
              "  <div id=\"df-fe095c78-876b-472b-9447-9dfe717dc59f\">\n",
              "    <div class=\"colab-df-container\">\n",
              "      <div>\n",
              "<style scoped>\n",
              "    .dataframe tbody tr th:only-of-type {\n",
              "        vertical-align: middle;\n",
              "    }\n",
              "\n",
              "    .dataframe tbody tr th {\n",
              "        vertical-align: top;\n",
              "    }\n",
              "\n",
              "    .dataframe thead th {\n",
              "        text-align: right;\n",
              "    }\n",
              "</style>\n",
              "<table border=\"1\" class=\"dataframe\">\n",
              "  <thead>\n",
              "    <tr style=\"text-align: right;\">\n",
              "      <th></th>\n",
              "      <th>crim</th>\n",
              "      <th>zn</th>\n",
              "      <th>indus</th>\n",
              "      <th>chas</th>\n",
              "      <th>nox</th>\n",
              "      <th>rm</th>\n",
              "      <th>age</th>\n",
              "      <th>dis</th>\n",
              "      <th>rad</th>\n",
              "      <th>tax</th>\n",
              "      <th>ptratio</th>\n",
              "      <th>b</th>\n",
              "      <th>lstat</th>\n",
              "      <th>medv</th>\n",
              "    </tr>\n",
              "  </thead>\n",
              "  <tbody>\n",
              "    <tr>\n",
              "      <th>0</th>\n",
              "      <td>0.00632</td>\n",
              "      <td>18.0</td>\n",
              "      <td>2.31</td>\n",
              "      <td>0</td>\n",
              "      <td>0.538</td>\n",
              "      <td>6.575</td>\n",
              "      <td>65.2</td>\n",
              "      <td>4.0900</td>\n",
              "      <td>1</td>\n",
              "      <td>296</td>\n",
              "      <td>15.3</td>\n",
              "      <td>396.90</td>\n",
              "      <td>4.98</td>\n",
              "      <td>24.0</td>\n",
              "    </tr>\n",
              "    <tr>\n",
              "      <th>1</th>\n",
              "      <td>0.02731</td>\n",
              "      <td>0.0</td>\n",
              "      <td>7.07</td>\n",
              "      <td>0</td>\n",
              "      <td>0.469</td>\n",
              "      <td>6.421</td>\n",
              "      <td>78.9</td>\n",
              "      <td>4.9671</td>\n",
              "      <td>2</td>\n",
              "      <td>242</td>\n",
              "      <td>17.8</td>\n",
              "      <td>396.90</td>\n",
              "      <td>9.14</td>\n",
              "      <td>21.6</td>\n",
              "    </tr>\n",
              "    <tr>\n",
              "      <th>2</th>\n",
              "      <td>0.02729</td>\n",
              "      <td>0.0</td>\n",
              "      <td>7.07</td>\n",
              "      <td>0</td>\n",
              "      <td>0.469</td>\n",
              "      <td>7.185</td>\n",
              "      <td>61.1</td>\n",
              "      <td>4.9671</td>\n",
              "      <td>2</td>\n",
              "      <td>242</td>\n",
              "      <td>17.8</td>\n",
              "      <td>392.83</td>\n",
              "      <td>4.03</td>\n",
              "      <td>34.7</td>\n",
              "    </tr>\n",
              "    <tr>\n",
              "      <th>3</th>\n",
              "      <td>0.03237</td>\n",
              "      <td>0.0</td>\n",
              "      <td>2.18</td>\n",
              "      <td>0</td>\n",
              "      <td>0.458</td>\n",
              "      <td>6.998</td>\n",
              "      <td>45.8</td>\n",
              "      <td>6.0622</td>\n",
              "      <td>3</td>\n",
              "      <td>222</td>\n",
              "      <td>18.7</td>\n",
              "      <td>394.63</td>\n",
              "      <td>2.94</td>\n",
              "      <td>33.4</td>\n",
              "    </tr>\n",
              "    <tr>\n",
              "      <th>4</th>\n",
              "      <td>0.06905</td>\n",
              "      <td>0.0</td>\n",
              "      <td>2.18</td>\n",
              "      <td>0</td>\n",
              "      <td>0.458</td>\n",
              "      <td>7.147</td>\n",
              "      <td>54.2</td>\n",
              "      <td>6.0622</td>\n",
              "      <td>3</td>\n",
              "      <td>222</td>\n",
              "      <td>18.7</td>\n",
              "      <td>396.90</td>\n",
              "      <td>5.33</td>\n",
              "      <td>36.2</td>\n",
              "    </tr>\n",
              "  </tbody>\n",
              "</table>\n",
              "</div>\n",
              "      <button class=\"colab-df-convert\" onclick=\"convertToInteractive('df-fe095c78-876b-472b-9447-9dfe717dc59f')\"\n",
              "              title=\"Convert this dataframe to an interactive table.\"\n",
              "              style=\"display:none;\">\n",
              "\n",
              "  <svg xmlns=\"http://www.w3.org/2000/svg\" height=\"24px\"viewBox=\"0 0 24 24\"\n",
              "       width=\"24px\">\n",
              "    <path d=\"M0 0h24v24H0V0z\" fill=\"none\"/>\n",
              "    <path d=\"M18.56 5.44l.94 2.06.94-2.06 2.06-.94-2.06-.94-.94-2.06-.94 2.06-2.06.94zm-11 1L8.5 8.5l.94-2.06 2.06-.94-2.06-.94L8.5 2.5l-.94 2.06-2.06.94zm10 10l.94 2.06.94-2.06 2.06-.94-2.06-.94-.94-2.06-.94 2.06-2.06.94z\"/><path d=\"M17.41 7.96l-1.37-1.37c-.4-.4-.92-.59-1.43-.59-.52 0-1.04.2-1.43.59L10.3 9.45l-7.72 7.72c-.78.78-.78 2.05 0 2.83L4 21.41c.39.39.9.59 1.41.59.51 0 1.02-.2 1.41-.59l7.78-7.78 2.81-2.81c.8-.78.8-2.07 0-2.86zM5.41 20L4 18.59l7.72-7.72 1.47 1.35L5.41 20z\"/>\n",
              "  </svg>\n",
              "      </button>\n",
              "\n",
              "\n",
              "\n",
              "    <div id=\"df-d5873dcc-ff14-45c6-b4db-bac0e7d3e224\">\n",
              "      <button class=\"colab-df-quickchart\" onclick=\"quickchart('df-d5873dcc-ff14-45c6-b4db-bac0e7d3e224')\"\n",
              "              title=\"Suggest charts.\"\n",
              "              style=\"display:none;\">\n",
              "\n",
              "<svg xmlns=\"http://www.w3.org/2000/svg\" height=\"24px\"viewBox=\"0 0 24 24\"\n",
              "     width=\"24px\">\n",
              "    <g>\n",
              "        <path d=\"M19 3H5c-1.1 0-2 .9-2 2v14c0 1.1.9 2 2 2h14c1.1 0 2-.9 2-2V5c0-1.1-.9-2-2-2zM9 17H7v-7h2v7zm4 0h-2V7h2v10zm4 0h-2v-4h2v4z\"/>\n",
              "    </g>\n",
              "</svg>\n",
              "      </button>\n",
              "    </div>\n",
              "\n",
              "<style>\n",
              "  .colab-df-quickchart {\n",
              "    background-color: #E8F0FE;\n",
              "    border: none;\n",
              "    border-radius: 50%;\n",
              "    cursor: pointer;\n",
              "    display: none;\n",
              "    fill: #1967D2;\n",
              "    height: 32px;\n",
              "    padding: 0 0 0 0;\n",
              "    width: 32px;\n",
              "  }\n",
              "\n",
              "  .colab-df-quickchart:hover {\n",
              "    background-color: #E2EBFA;\n",
              "    box-shadow: 0px 1px 2px rgba(60, 64, 67, 0.3), 0px 1px 3px 1px rgba(60, 64, 67, 0.15);\n",
              "    fill: #174EA6;\n",
              "  }\n",
              "\n",
              "  [theme=dark] .colab-df-quickchart {\n",
              "    background-color: #3B4455;\n",
              "    fill: #D2E3FC;\n",
              "  }\n",
              "\n",
              "  [theme=dark] .colab-df-quickchart:hover {\n",
              "    background-color: #434B5C;\n",
              "    box-shadow: 0px 1px 3px 1px rgba(0, 0, 0, 0.15);\n",
              "    filter: drop-shadow(0px 1px 2px rgba(0, 0, 0, 0.3));\n",
              "    fill: #FFFFFF;\n",
              "  }\n",
              "</style>\n",
              "\n",
              "    <script>\n",
              "      async function quickchart(key) {\n",
              "        const containerElement = document.querySelector('#' + key);\n",
              "        const charts = await google.colab.kernel.invokeFunction(\n",
              "            'suggestCharts', [key], {});\n",
              "      }\n",
              "    </script>\n",
              "\n",
              "\n",
              "      <script>\n",
              "\n",
              "function displayQuickchartButton(domScope) {\n",
              "  let quickchartButtonEl =\n",
              "    domScope.querySelector('#df-d5873dcc-ff14-45c6-b4db-bac0e7d3e224 button.colab-df-quickchart');\n",
              "  quickchartButtonEl.style.display =\n",
              "    google.colab.kernel.accessAllowed ? 'block' : 'none';\n",
              "}\n",
              "\n",
              "        displayQuickchartButton(document);\n",
              "      </script>\n",
              "      <style>\n",
              "    .colab-df-container {\n",
              "      display:flex;\n",
              "      flex-wrap:wrap;\n",
              "      gap: 12px;\n",
              "    }\n",
              "\n",
              "    .colab-df-convert {\n",
              "      background-color: #E8F0FE;\n",
              "      border: none;\n",
              "      border-radius: 50%;\n",
              "      cursor: pointer;\n",
              "      display: none;\n",
              "      fill: #1967D2;\n",
              "      height: 32px;\n",
              "      padding: 0 0 0 0;\n",
              "      width: 32px;\n",
              "    }\n",
              "\n",
              "    .colab-df-convert:hover {\n",
              "      background-color: #E2EBFA;\n",
              "      box-shadow: 0px 1px 2px rgba(60, 64, 67, 0.3), 0px 1px 3px 1px rgba(60, 64, 67, 0.15);\n",
              "      fill: #174EA6;\n",
              "    }\n",
              "\n",
              "    [theme=dark] .colab-df-convert {\n",
              "      background-color: #3B4455;\n",
              "      fill: #D2E3FC;\n",
              "    }\n",
              "\n",
              "    [theme=dark] .colab-df-convert:hover {\n",
              "      background-color: #434B5C;\n",
              "      box-shadow: 0px 1px 3px 1px rgba(0, 0, 0, 0.15);\n",
              "      filter: drop-shadow(0px 1px 2px rgba(0, 0, 0, 0.3));\n",
              "      fill: #FFFFFF;\n",
              "    }\n",
              "  </style>\n",
              "\n",
              "      <script>\n",
              "        const buttonEl =\n",
              "          document.querySelector('#df-fe095c78-876b-472b-9447-9dfe717dc59f button.colab-df-convert');\n",
              "        buttonEl.style.display =\n",
              "          google.colab.kernel.accessAllowed ? 'block' : 'none';\n",
              "\n",
              "        async function convertToInteractive(key) {\n",
              "          const element = document.querySelector('#df-fe095c78-876b-472b-9447-9dfe717dc59f');\n",
              "          const dataTable =\n",
              "            await google.colab.kernel.invokeFunction('convertToInteractive',\n",
              "                                                     [key], {});\n",
              "          if (!dataTable) return;\n",
              "\n",
              "          const docLinkHtml = 'Like what you see? Visit the ' +\n",
              "            '<a target=\"_blank\" href=https://colab.research.google.com/notebooks/data_table.ipynb>data table notebook</a>'\n",
              "            + ' to learn more about interactive tables.';\n",
              "          element.innerHTML = '';\n",
              "          dataTable['output_type'] = 'display_data';\n",
              "          await google.colab.output.renderOutput(dataTable, element);\n",
              "          const docLink = document.createElement('div');\n",
              "          docLink.innerHTML = docLinkHtml;\n",
              "          element.appendChild(docLink);\n",
              "        }\n",
              "      </script>\n",
              "    </div>\n",
              "  </div>\n"
            ]
          },
          "metadata": {},
          "execution_count": 165
        }
      ],
      "source": [
        "# Download the data\n",
        "download_url(DATASET_URL, '.')\n",
        "dataframe = pd.read_csv(DATA_FILENAME)\n",
        "dataframe.head()"
      ]
    },
    {
      "cell_type": "code",
      "execution_count": 166,
      "metadata": {
        "colab": {
          "base_uri": "https://localhost:8080/"
        },
        "id": "F8nxHAki87ed",
        "outputId": "cff6ec9b-a1fa-4bac-c87f-eb6065c9b247"
      },
      "outputs": [
        {
          "output_type": "execute_result",
          "data": {
            "text/plain": [
              "((506, 13), (506, 1))"
            ]
          },
          "metadata": {},
          "execution_count": 166
        }
      ],
      "source": [
        "# Convert from Pandas dataframe to numpy arrays\n",
        "inputs = dataframe.drop('medv', axis=1).values\n",
        "targets = dataframe[['medv']].values\n",
        "inputs.shape, targets.shape"
      ]
    },
    {
      "cell_type": "code",
      "source": [
        "inputs"
      ],
      "metadata": {
        "colab": {
          "base_uri": "https://localhost:8080/"
        },
        "id": "uulF5Y_KI4mz",
        "outputId": "46dc49cb-a585-439a-f4f8-f44741f3e09e"
      },
      "execution_count": 167,
      "outputs": [
        {
          "output_type": "execute_result",
          "data": {
            "text/plain": [
              "array([[6.3200e-03, 1.8000e+01, 2.3100e+00, ..., 1.5300e+01, 3.9690e+02,\n",
              "        4.9800e+00],\n",
              "       [2.7310e-02, 0.0000e+00, 7.0700e+00, ..., 1.7800e+01, 3.9690e+02,\n",
              "        9.1400e+00],\n",
              "       [2.7290e-02, 0.0000e+00, 7.0700e+00, ..., 1.7800e+01, 3.9283e+02,\n",
              "        4.0300e+00],\n",
              "       ...,\n",
              "       [6.0760e-02, 0.0000e+00, 1.1930e+01, ..., 2.1000e+01, 3.9690e+02,\n",
              "        5.6400e+00],\n",
              "       [1.0959e-01, 0.0000e+00, 1.1930e+01, ..., 2.1000e+01, 3.9345e+02,\n",
              "        6.4800e+00],\n",
              "       [4.7410e-02, 0.0000e+00, 1.1930e+01, ..., 2.1000e+01, 3.9690e+02,\n",
              "        7.8800e+00]])"
            ]
          },
          "metadata": {},
          "execution_count": 167
        }
      ]
    },
    {
      "cell_type": "code",
      "source": [
        "targets[0: 10]"
      ],
      "metadata": {
        "colab": {
          "base_uri": "https://localhost:8080/"
        },
        "id": "MoxuZiPAI6wF",
        "outputId": "4ae22d3e-b5c7-4391-8404-b7b8c2b2dc06"
      },
      "execution_count": 168,
      "outputs": [
        {
          "output_type": "execute_result",
          "data": {
            "text/plain": [
              "array([[24. ],\n",
              "       [21.6],\n",
              "       [34.7],\n",
              "       [33.4],\n",
              "       [36.2],\n",
              "       [28.7],\n",
              "       [22.9],\n",
              "       [27.1],\n",
              "       [16.5],\n",
              "       [18.9]])"
            ]
          },
          "metadata": {},
          "execution_count": 168
        }
      ]
    },
    {
      "cell_type": "markdown",
      "source": [
        "#Converting to the Pytorch dataset"
      ],
      "metadata": {
        "id": "wXpQDPz-Jy4W"
      }
    },
    {
      "cell_type": "code",
      "execution_count": 183,
      "metadata": {
        "id": "viGsPYaD87eo"
      },
      "outputs": [],
      "source": [
        "# Convert to PyTorch dataset\n",
        "dataset = TensorDataset(torch.tensor(inputs, dtype=torch.float32), torch.tensor(targets, dtype=torch.float32))\n",
        "train_ds, val_ds, test_ds = random_split(dataset, [406, 60, 40])\n",
        "\n",
        "train_loader = DataLoader(train_ds, batch_size, shuffle=True)\n",
        "val_loader = DataLoader(val_ds, batch_size*2)\n",
        "test_loader = DataLoader(test_ds, batch_size*2)\n"
      ]
    },
    {
      "cell_type": "markdown",
      "metadata": {
        "id": "3qBSpaoD87er"
      },
      "source": [
        "## Model"
      ]
    },
    {
      "cell_type": "markdown",
      "source": [
        "Create a class for Boston Housing and we will call the class for its prediction"
      ],
      "metadata": {
        "id": "OQSqQY3uW2Yc"
      }
    },
    {
      "cell_type": "code",
      "execution_count": 184,
      "metadata": {
        "id": "AQfYgQCl87e5"
      },
      "outputs": [],
      "source": [
        "class HousingModel(nn.Module):\n",
        "    def __init__(self):\n",
        "        super().__init__()\n",
        "        self.linear = nn.Linear(input_size, output_size)# input_size=13, output_size = 1\n",
        "\n",
        "    def forward(self, xb):\n",
        "        out = self.linear(xb)\n",
        "        return out\n",
        "\n",
        "    def training_step(self, batch):\n",
        "        inputs, targets = batch\n",
        "        out = self(inputs)                 # Generate predictions\n",
        "        loss = F.mse_loss(out, targets)    # Calculate loss\n",
        "        return loss\n",
        "\n",
        "    def validation_step(self, batch):\n",
        "        inputs, targets = batch\n",
        "        out = self(inputs)                 # Generate predictions\n",
        "        loss = F.mse_loss(out, targets)    # Calculate loss\n",
        "        return {'val_loss': loss.detach()}\n",
        "\n",
        "    def validation_epoch_end(self, outputs):\n",
        "        batch_losses = [x['val_loss'] for x in outputs]\n",
        "        epoch_loss = torch.stack(batch_losses).mean()   # Combine losses\n",
        "        return {'val_loss': epoch_loss.item()}\n",
        "\n",
        "    def epoch_end(self, epoch, result):\n",
        "        print(\"Epoch [{}], val_loss: {:.4f}\".format(epoch, result['val_loss']))\n",
        "\n",
        "\n",
        "model = HousingModel() # calling our model"
      ]
    },
    {
      "cell_type": "markdown",
      "metadata": {
        "id": "iKmSoW1y87fJ"
      },
      "source": [
        "## Training"
      ]
    },
    {
      "cell_type": "code",
      "execution_count": 185,
      "metadata": {
        "id": "aQB1NuMn87fM"
      },
      "outputs": [],
      "source": [
        "def evaluate(model, val_loader):\n",
        "    outputs = [model.validation_step(batch) for batch in val_loader]\n",
        "    return model.validation_epoch_end(outputs)\n",
        "\n",
        "def fit(epochs, lr, model, train_loader, val_loader, opt_func=torch.optim.SGD):\n",
        "    history = [] # save the track of validation loss\n",
        "    optimizer = opt_func(model.parameters(), lr)\n",
        "    for epoch in range(epochs):\n",
        "        # Training Phase\n",
        "        for batch in train_loader:\n",
        "            loss = model.training_step(batch)\n",
        "            loss.backward()\n",
        "            optimizer.step()\n",
        "            optimizer.zero_grad()\n",
        "        # Validation phase\n",
        "        result = evaluate(model, val_loader)\n",
        "        model.epoch_end(epoch, result)\n",
        "        history.append(result)\n",
        "    return history"
      ]
    },
    {
      "cell_type": "markdown",
      "source": [
        "We will evaluate the model with validation dataset to check its performance"
      ],
      "metadata": {
        "id": "ICO6UfnBWbGt"
      }
    },
    {
      "cell_type": "code",
      "execution_count": 186,
      "metadata": {
        "id": "8Q9gHmyN87fO",
        "outputId": "1402474f-6688-4e84-df01-74a7a3ca82bb",
        "colab": {
          "base_uri": "https://localhost:8080/"
        }
      },
      "outputs": [
        {
          "output_type": "execute_result",
          "data": {
            "text/plain": [
              "{'val_loss': 160.61976623535156}"
            ]
          },
          "metadata": {},
          "execution_count": 186
        }
      ],
      "source": [
        "result = evaluate(model, val_loader)\n",
        "result"
      ]
    },
    {
      "cell_type": "code",
      "execution_count": 187,
      "metadata": {
        "id": "EP90qKCL87fQ",
        "outputId": "c60a3a72-2b0a-44e2-e832-e5b9b43e5281",
        "colab": {
          "base_uri": "https://localhost:8080/"
        }
      },
      "outputs": [
        {
          "output_type": "stream",
          "name": "stdout",
          "text": [
            "Epoch [0], val_loss: 78.3600\n",
            "Epoch [1], val_loss: 77.0244\n",
            "Epoch [2], val_loss: 74.4538\n",
            "Epoch [3], val_loss: 72.6340\n",
            "Epoch [4], val_loss: 71.5379\n"
          ]
        }
      ],
      "source": [
        "history = fit(5, learning_rate, model, train_loader, val_loader)"
      ]
    },
    {
      "cell_type": "code",
      "source": [
        "history1 = fit(50, 0.00000088, model, train_loader, val_loader)"
      ],
      "metadata": {
        "colab": {
          "base_uri": "https://localhost:8080/"
        },
        "id": "9UYTym4wje5K",
        "outputId": "efb1a26d-1b0d-41e3-b6fe-a60980c7ec41"
      },
      "execution_count": 188,
      "outputs": [
        {
          "output_type": "stream",
          "name": "stdout",
          "text": [
            "Epoch [0], val_loss: 72.5546\n",
            "Epoch [1], val_loss: 69.0622\n",
            "Epoch [2], val_loss: 67.9363\n",
            "Epoch [3], val_loss: 70.8935\n",
            "Epoch [4], val_loss: 68.4098\n",
            "Epoch [5], val_loss: 66.7011\n",
            "Epoch [6], val_loss: 69.2646\n",
            "Epoch [7], val_loss: 66.6062\n",
            "Epoch [8], val_loss: 70.0035\n",
            "Epoch [9], val_loss: 66.2504\n",
            "Epoch [10], val_loss: 66.1880\n",
            "Epoch [11], val_loss: 66.6872\n",
            "Epoch [12], val_loss: 66.1633\n",
            "Epoch [13], val_loss: 66.0343\n",
            "Epoch [14], val_loss: 68.0746\n",
            "Epoch [15], val_loss: 66.9252\n",
            "Epoch [16], val_loss: 65.3321\n",
            "Epoch [17], val_loss: 65.4510\n",
            "Epoch [18], val_loss: 67.3906\n",
            "Epoch [19], val_loss: 72.9062\n",
            "Epoch [20], val_loss: 65.0229\n",
            "Epoch [21], val_loss: 65.0343\n",
            "Epoch [22], val_loss: 65.4802\n",
            "Epoch [23], val_loss: 64.7992\n",
            "Epoch [24], val_loss: 66.9127\n",
            "Epoch [25], val_loss: 65.4975\n",
            "Epoch [26], val_loss: 66.3016\n",
            "Epoch [27], val_loss: 67.0765\n",
            "Epoch [28], val_loss: 67.7475\n",
            "Epoch [29], val_loss: 64.7838\n",
            "Epoch [30], val_loss: 66.1041\n",
            "Epoch [31], val_loss: 63.9686\n",
            "Epoch [32], val_loss: 66.7570\n",
            "Epoch [33], val_loss: 64.2593\n",
            "Epoch [34], val_loss: 67.0941\n",
            "Epoch [35], val_loss: 64.4727\n",
            "Epoch [36], val_loss: 63.8849\n",
            "Epoch [37], val_loss: 65.5841\n",
            "Epoch [38], val_loss: 63.9512\n",
            "Epoch [39], val_loss: 64.0866\n",
            "Epoch [40], val_loss: 63.8609\n",
            "Epoch [41], val_loss: 65.9357\n",
            "Epoch [42], val_loss: 64.0699\n",
            "Epoch [43], val_loss: 64.2942\n",
            "Epoch [44], val_loss: 65.7839\n",
            "Epoch [45], val_loss: 64.0171\n",
            "Epoch [46], val_loss: 66.4433\n",
            "Epoch [47], val_loss: 64.0644\n",
            "Epoch [48], val_loss: 64.5532\n",
            "Epoch [49], val_loss: 63.7310\n"
          ]
        }
      ]
    },
    {
      "cell_type": "code",
      "source": [
        "history2 = fit(5, 0.00000088, model, train_loader, val_loader)"
      ],
      "metadata": {
        "colab": {
          "base_uri": "https://localhost:8080/"
        },
        "id": "ejY45K8dVTUA",
        "outputId": "940cadde-7363-41b5-e424-5597ed73446f"
      },
      "execution_count": 189,
      "outputs": [
        {
          "output_type": "stream",
          "name": "stdout",
          "text": [
            "Epoch [0], val_loss: 63.6243\n",
            "Epoch [1], val_loss: 64.4863\n",
            "Epoch [2], val_loss: 63.7484\n",
            "Epoch [3], val_loss: 63.7735\n",
            "Epoch [4], val_loss: 64.3741\n"
          ]
        }
      ]
    },
    {
      "cell_type": "markdown",
      "source": [
        "Plot the validation losses\n",
        "\n"
      ],
      "metadata": {
        "id": "8x4O1RhgWWrJ"
      }
    },
    {
      "cell_type": "code",
      "execution_count": 192,
      "metadata": {
        "id": "BNg2D8-g87fS",
        "outputId": "8e3f0290-2877-42ee-d819-32c7434d46e3",
        "colab": {
          "base_uri": "https://localhost:8080/",
          "height": 472
        }
      },
      "outputs": [
        {
          "output_type": "display_data",
          "data": {
            "text/plain": [
              "<Figure size 640x480 with 1 Axes>"
            ],
            "image/png": "[encoded data removed]"
          },
          "metadata": {}
        }
      ],
      "source": [
        "losses = [r['val_loss'] for r in [result] + history+history1+history2]\n",
        "plt.plot(losses, '-x')\n",
        "plt.xlabel('epoch')\n",
        "plt.ylabel('val_loss')\n",
        "plt.title('val_loss vs. epochs');"
      ]
    },
    {
      "cell_type": "markdown",
      "metadata": {
        "id": "ZJOqVW8287fT"
      },
      "source": [
        "## Prediction"
      ]
    },
    {
      "cell_type": "markdown",
      "source": [
        "Function to predict the single output from single input"
      ],
      "metadata": {
        "id": "jZfrkWPSV4BJ"
      }
    },
    {
      "cell_type": "code",
      "execution_count": 197,
      "metadata": {
        "id": "rKuWWtld87fW"
      },
      "outputs": [],
      "source": [
        "def predict_single(x, model):\n",
        "    xb = x.unsqueeze(0)\n",
        "    return model(x).item()"
      ]
    },
    {
      "cell_type": "code",
      "execution_count": 200,
      "metadata": {
        "id": "7nz6fGgo87fY",
        "outputId": "bd904e3c-7de8-46b5-d37c-b8779f5df65a",
        "colab": {
          "base_uri": "https://localhost:8080/"
        }
      },
      "outputs": [
        {
          "output_type": "stream",
          "name": "stdout",
          "text": [
            "Input:  tensor([5.5610e-02, 7.0000e+01, 2.2400e+00, 0.0000e+00, 4.0000e-01, 7.0410e+00,\n",
            "        1.0000e+01, 7.8278e+00, 5.0000e+00, 3.5800e+02, 1.4800e+01, 3.7158e+02,\n",
            "        4.7400e+00])\n",
            "Target:  29.0\n",
            "Prediction: 32.885684967041016\n"
          ]
        }
      ],
      "source": [
        "x, target = val_ds[53]\n",
        "pred = predict_single(x, model)\n",
        "print(\"Input: \", x)\n",
        "print(\"Target: \", target.item())\n",
        "print(\"Prediction:\", pred)"
      ]
    },
    {
      "cell_type": "markdown",
      "source": [
        "#### Our model is working well, because it is predicting the number near to target"
      ],
      "metadata": {
        "id": "iSd6bIkVXPcb"
      }
    },
    {
      "cell_type": "markdown",
      "metadata": {
        "id": "DLbhqj6k87fc"
      },
      "source": [
        "## Save and upload"
      ]
    },
    {
      "cell_type": "markdown",
      "source": [
        "We will save the model and use the saved model parametrs later on."
      ],
      "metadata": {
        "id": "-WBEZPAOWI_U"
      }
    },
    {
      "cell_type": "code",
      "execution_count": 105,
      "metadata": {
        "id": "6z-e8aKT87fp"
      },
      "outputs": [],
      "source": [
        "torch.save(model.state_dict(), 'housing-linear.pth')"
      ]
    },
    {
      "cell_type": "markdown",
      "source": [
        "To download the saved model on google colab"
      ],
      "metadata": {
        "id": "X4fVyxNqX4LE"
      }
    },
    {
      "cell_type": "code",
      "execution_count": 201,
      "metadata": {
        "id": "roSmG3J_87ft",
        "colab": {
          "base_uri": "https://localhost:8080/",
          "height": 17
        },
        "outputId": "73d8cbf6-e10e-49fd-cffd-af7dab1b90b5"
      },
      "outputs": [
        {
          "output_type": "display_data",
          "data": {
            "text/plain": [
              "<IPython.core.display.Javascript object>"
            ],
            "application/javascript": [
              "\n",
              "    async function download(id, filename, size) {\n",
              "      if (!google.colab.kernel.accessAllowed) {\n",
              "        return;\n",
              "      }\n",
              "      const div = document.createElement('div');\n",
              "      const label = document.createElement('label');\n",
              "      label.textContent = `Downloading \"${filename}\": `;\n",
              "      div.appendChild(label);\n",
              "      const progress = document.createElement('progress');\n",
              "      progress.max = size;\n",
              "      div.appendChild(progress);\n",
              "      document.body.appendChild(div);\n",
              "\n",
              "      const buffers = [];\n",
              "      let downloaded = 0;\n",
              "\n",
              "      const channel = await google.colab.kernel.comms.open(id);\n",
              "      // Send a message to notify the kernel that we're ready.\n",
              "      channel.send({})\n",
              "\n",
              "      for await (const message of channel.messages) {\n",
              "        // Send a message to notify the kernel that we're ready.\n",
              "        channel.send({})\n",
              "        if (message.buffers) {\n",
              "          for (const buffer of message.buffers) {\n",
              "            buffers.push(buffer);\n",
              "            downloaded += buffer.byteLength;\n",
              "            progress.value = downloaded;\n",
              "          }\n",
              "        }\n",
              "      }\n",
              "      const blob = new Blob(buffers, {type: 'application/binary'});\n",
              "      const a = document.createElement('a');\n",
              "      a.href = window.URL.createObjectURL(blob);\n",
              "      a.download = filename;\n",
              "      div.appendChild(a);\n",
              "      a.click();\n",
              "      div.remove();\n",
              "    }\n",
              "  "
            ]
          },
          "metadata": {}
        },
        {
          "output_type": "display_data",
          "data": {
            "text/plain": [
              "<IPython.core.display.Javascript object>"
            ],
            "application/javascript": [
              "download(\"download_7bb7cbc1-1819-4026-b048-ec1bc2450226\", \"housing-linear.pth\", 1155)"
            ]
          },
          "metadata": {}
        }
      ],
      "source": [
        "from google.colab import files\n",
        "\n",
        "\n",
        "model_path = 'housing-linear.pth'\n",
        "files.download(model_path)"
      ]
    },
    {
      "cell_type": "code",
      "source": [],
      "metadata": {
        "id": "0gP66ax6X751"
      },
      "execution_count": null,
      "outputs": []
    }
  ],
  "metadata": {
    "kernelspec": {
      "display_name": "Python 3",
      "language": "python",
      "name": "python3"
    },
    "language_info": {
      "codemirror_mode": {
        "name": "ipython",
        "version": 3
      },
      "file_extension": ".py",
      "mimetype": "text/x-python",
      "name": "python",
      "nbconvert_exporter": "python",
      "pygments_lexer": "ipython3",
      "version": "3.6.4"
    },
    "colab": {
      "provenance": []
    }
  },
  "nbformat": 4,
  "nbformat_minor": 0
}